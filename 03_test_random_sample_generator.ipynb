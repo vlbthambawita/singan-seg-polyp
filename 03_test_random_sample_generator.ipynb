{
 "metadata": {
  "language_info": {
   "codemirror_mode": {
    "name": "ipython",
    "version": 3
   },
   "file_extension": ".py",
   "mimetype": "text/x-python",
   "name": "python",
   "nbconvert_exporter": "python",
   "pygments_lexer": "ipython3",
   "version": "3.8.3-final"
  },
  "orig_nbformat": 2,
  "kernelspec": {
   "name": "python3",
   "display_name": "Python 3.8.3 64-bit ('pytorch-new': conda)",
   "metadata": {
    "interpreter": {
     "hash": "c676c51d6892d8ece26713fe385afab2881dfd915a88679a3f5efc6c396329a1"
    }
   }
  }
 },
 "nbformat": 4,
 "nbformat_minor": 2,
 "cells": [
  {
   "cell_type": "code",
   "execution_count": 1,
   "metadata": {},
   "outputs": [
    {
     "output_type": "stream",
     "name": "stdout",
     "text": [
      "/work/vajira/DL/singan-polyp-aug\n"
     ]
    }
   ],
   "source": [
    "%cd /work/vajira/DL/singan-polyp-aug"
   ]
  },
  {
   "cell_type": "code",
   "execution_count": 2,
   "metadata": {},
   "outputs": [],
   "source": [
    "from config import get_arguments\n",
    "from SinGAN.manipulate import *\n",
    "from SinGAN.training import *\n",
    "from SinGAN.imresize import imresize\n",
    "import SinGAN.functions as functions"
   ]
  },
  {
   "cell_type": "code",
   "execution_count": 3,
   "metadata": {},
   "outputs": [],
   "source": [
    "#torch.cuda.set_device(11)"
   ]
  },
  {
   "cell_type": "code",
   "execution_count": 4,
   "metadata": {},
   "outputs": [
    {
     "output_type": "stream",
     "name": "stdout",
     "text": [
      "Random Seed:  7333\n"
     ]
    }
   ],
   "source": [
    "parser = get_arguments()\n",
    "parser.add_argument('--input_dir', help='input image dir', default='/work/vajira/DATA/hyper_kvasir/data_new/segmented_train_val/data/img_and_mask_together')\n",
    "parser.add_argument('--input_name', help='input image name', default=\"cju2u73dj53oz0878486k8k4b.png\")\n",
    "parser.add_argument('--mode', help='random_samples | random_samples_arbitrary_sizes', default='random_samples')\n",
    "# for random_samples:\n",
    "parser.add_argument('--gen_start_scale', type=int, help='generation start scale', default=0)\n",
    "# for random_samples_arbitrary_sizes:\n",
    "parser.add_argument('--scale_h', type=float, help='horizontal resize factor for random samples', default=1.5)\n",
    "parser.add_argument('--scale_v', type=float, help='vertical resize factor for random samples', default=1)\n",
    "opt = parser.parse_args(\"\")\n",
    "opt = functions.post_config(opt)"
   ]
  },
  {
   "cell_type": "code",
   "execution_count": 5,
   "metadata": {},
   "outputs": [],
   "source": [
    "opt.gen_start_scale = 0\n",
    "opt.nc_z = 4\n",
    "opt.nc_im = 4\n",
    "opt.device = torch.device(\"cpu\" if opt.not_cuda else \"cuda:0\")"
   ]
  },
  {
   "cell_type": "code",
   "execution_count": 6,
   "metadata": {},
   "outputs": [],
   "source": [
    "Gs = []\n",
    "Zs = []\n",
    "reals = []\n",
    "NoiseAmp = []\n",
    "dir2save = functions.generate_dir2save(opt)"
   ]
  },
  {
   "cell_type": "code",
   "execution_count": 7,
   "metadata": {},
   "outputs": [],
   "source": [
    "#os.makedirs(dir2save)"
   ]
  },
  {
   "cell_type": "code",
   "execution_count": 8,
   "metadata": {},
   "outputs": [
    {
     "output_type": "stream",
     "name": "stdout",
     "text": [
      "X shape= (529, 524, 4)\nx after imread=== (529, 524, 4)\n"
     ]
    }
   ],
   "source": [
    "real = functions.read_image(opt)"
   ]
  },
  {
   "cell_type": "code",
   "execution_count": 9,
   "metadata": {},
   "outputs": [
    {
     "output_type": "execute_result",
     "data": {
      "text/plain": [
       "tensor([[[[-1., -1., -1.,  ..., -1., -1., -1.],\n",
       "          [-1., -1., -1.,  ..., -1., -1., -1.],\n",
       "          [-1., -1., -1.,  ..., -1., -1., -1.],\n",
       "          ...,\n",
       "          [-1., -1., -1.,  ..., -1., -1., -1.],\n",
       "          [-1., -1., -1.,  ..., -1., -1., -1.],\n",
       "          [-1., -1., -1.,  ..., -1., -1., -1.]],\n",
       "\n",
       "         [[-1., -1., -1.,  ..., -1., -1., -1.],\n",
       "          [-1., -1., -1.,  ..., -1., -1., -1.],\n",
       "          [-1., -1., -1.,  ..., -1., -1., -1.],\n",
       "          ...,\n",
       "          [-1., -1., -1.,  ..., -1., -1., -1.],\n",
       "          [-1., -1., -1.,  ..., -1., -1., -1.],\n",
       "          [-1., -1., -1.,  ..., -1., -1., -1.]],\n",
       "\n",
       "         [[-1., -1., -1.,  ..., -1., -1., -1.],\n",
       "          [-1., -1., -1.,  ..., -1., -1., -1.],\n",
       "          [-1., -1., -1.,  ..., -1., -1., -1.],\n",
       "          ...,\n",
       "          [-1., -1., -1.,  ..., -1., -1., -1.],\n",
       "          [-1., -1., -1.,  ..., -1., -1., -1.],\n",
       "          [-1., -1., -1.,  ..., -1., -1., -1.]],\n",
       "\n",
       "         [[-1., -1., -1.,  ..., -1., -1., -1.],\n",
       "          [-1., -1., -1.,  ..., -1., -1., -1.],\n",
       "          [-1., -1., -1.,  ..., -1., -1., -1.],\n",
       "          ...,\n",
       "          [-1., -1., -1.,  ..., -1., -1., -1.],\n",
       "          [-1., -1., -1.,  ..., -1., -1., -1.],\n",
       "          [-1., -1., -1.,  ..., -1., -1., -1.]]]], device='cuda:0')"
      ]
     },
     "metadata": {},
     "execution_count": 9
    }
   ],
   "source": [
    "functions.adjust_scales2image(real, opt)"
   ]
  },
  {
   "cell_type": "code",
   "execution_count": 10,
   "metadata": {},
   "outputs": [],
   "source": [
    "#Gs, Zs, reals, NoiseAmp = functions.load_trained_pyramid(opt)"
   ]
  },
  {
   "cell_type": "code",
   "execution_count": 11,
   "metadata": {},
   "outputs": [],
   "source": [
    "Gs_path = \"/work/vajira/DL/sinGAN/SinGAN-aug/TrainedModels/cju2u73dj53oz0878486k8k4b/scale_factor=0.750000,alpha=10/Gs.pth\"\n",
    "noise_path = \"/work/vajira/DL/sinGAN/SinGAN-aug/TrainedModels/cju2u73dj53oz0878486k8k4b/scale_factor=0.750000,alpha=10/NoiseAmp.pth\"\n",
    "reals_path = \"/work/vajira/DL/sinGAN/SinGAN-aug/TrainedModels/cju2u73dj53oz0878486k8k4b/scale_factor=0.750000,alpha=10/reals.pth\"\n",
    "z_path = \"/work/vajira/DL/sinGAN/SinGAN-aug/TrainedModels/cju2u73dj53oz0878486k8k4b/scale_factor=0.750000,alpha=10/Zs.pth\""
   ]
  },
  {
   "cell_type": "code",
   "execution_count": 12,
   "metadata": {},
   "outputs": [],
   "source": [
    "Gs = torch.load(Gs_path)\n",
    "reals = torch.load(reals_path)\n",
    "Zs = torch.load(z_path)\n",
    "NoiseAmp = torch.load(noise_path)"
   ]
  },
  {
   "cell_type": "code",
   "execution_count": 13,
   "metadata": {},
   "outputs": [
    {
     "output_type": "execute_result",
     "data": {
      "text/plain": [
       "10"
      ]
     },
     "metadata": {},
     "execution_count": 13
    }
   ],
   "source": [
    "len(Gs)"
   ]
  },
  {
   "cell_type": "code",
   "execution_count": 14,
   "metadata": {},
   "outputs": [],
   "source": [
    "#Gs"
   ]
  },
  {
   "cell_type": "code",
   "execution_count": 15,
   "metadata": {},
   "outputs": [
    {
     "output_type": "execute_result",
     "data": {
      "text/plain": [
       "10"
      ]
     },
     "metadata": {},
     "execution_count": 15
    }
   ],
   "source": [
    "len(Zs)"
   ]
  },
  {
   "cell_type": "code",
   "execution_count": null,
   "metadata": {},
   "outputs": [],
   "source": []
  },
  {
   "cell_type": "code",
   "execution_count": 16,
   "metadata": {},
   "outputs": [],
   "source": [
    "in_s = functions.generate_in2coarsest(reals,1,1,opt)"
   ]
  },
  {
   "cell_type": "code",
   "execution_count": 17,
   "metadata": {},
   "outputs": [
    {
     "output_type": "execute_result",
     "data": {
      "text/plain": [
       "tensor([[[[-0.9180, -0.8541, -0.8697,  ..., -0.9466, -1.0449, -0.9329],\n",
       "          [-0.8819, -0.8875, -0.8721,  ..., -0.8738, -0.9284, -0.9873],\n",
       "          [-0.9046, -0.9038, -0.9069,  ..., -0.9084, -0.8881, -0.8958],\n",
       "          ...,\n",
       "          [-0.9628, -0.9365, -0.9219,  ..., -0.8672, -0.8495, -0.8175],\n",
       "          [-1.0114, -0.9784, -0.9641,  ..., -0.9037, -0.9274, -0.8939],\n",
       "          [-1.0224, -1.0192, -0.9788,  ..., -0.9217, -0.9259, -0.9677]],\n",
       "\n",
       "         [[-0.9779, -0.9638, -0.9111,  ..., -0.9875, -1.0659, -0.9740],\n",
       "          [-0.9526, -1.0025, -0.9586,  ..., -0.9609, -1.0315, -1.0515],\n",
       "          [-0.9476, -0.9887, -0.9930,  ..., -0.9701, -0.9934, -0.9874],\n",
       "          ...,\n",
       "          [-1.0164, -1.0058, -0.9783,  ..., -0.9241, -0.9697, -0.9303],\n",
       "          [-1.0720, -1.0554, -1.0245,  ..., -0.9632, -1.0236, -0.9651],\n",
       "          [-1.0734, -1.0780, -1.0435,  ..., -0.9787, -0.9972, -1.0001]],\n",
       "\n",
       "         [[-0.9797, -1.0046, -0.9973,  ..., -0.9968, -1.0781, -0.9895],\n",
       "          [-0.9457, -1.0141, -0.9905,  ..., -0.9751, -0.9833, -1.0279],\n",
       "          [-0.9447, -0.9964, -1.0119,  ..., -0.9759, -0.9921, -0.9951],\n",
       "          ...,\n",
       "          [-1.0274, -1.0380, -1.0453,  ..., -0.9984, -1.0291, -0.9739],\n",
       "          [-1.0245, -1.0151, -1.0050,  ..., -0.9661, -1.0383, -1.0364],\n",
       "          [-1.0447, -1.0270, -1.0026,  ..., -0.9850, -1.0130, -1.0577]],\n",
       "\n",
       "         [[-0.8901, -0.8439, -0.8652,  ..., -0.9818, -0.9915, -0.9336],\n",
       "          [-0.9118, -0.8613, -0.8425,  ..., -0.9852, -0.9567, -0.9018],\n",
       "          [-0.9470, -0.9207, -0.9063,  ..., -0.9644, -0.9322, -0.8808],\n",
       "          ...,\n",
       "          [-0.9929, -0.9464, -0.8995,  ..., -0.9537, -0.9324, -0.8952],\n",
       "          [-0.9920, -0.9608, -0.9218,  ..., -0.9661, -0.9475, -0.9291],\n",
       "          [-0.9959, -0.9693, -0.9245,  ..., -0.9626, -0.9550, -0.9390]]]],\n",
       "       device='cuda:0')"
      ]
     },
     "metadata": {},
     "execution_count": 17
    }
   ],
   "source": [
    "SinGAN_generate(Gs, Zs, reals, NoiseAmp, opt, gen_start_scale=opt.gen_start_scale)"
   ]
  },
  {
   "cell_type": "code",
   "execution_count": null,
   "metadata": {},
   "outputs": [],
   "source": []
  }
 ]
}