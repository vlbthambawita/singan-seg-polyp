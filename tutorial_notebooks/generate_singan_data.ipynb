{
 "cells": [
  {
   "cell_type": "code",
   "execution_count": 1,
   "metadata": {},
   "outputs": [],
   "source": [
    "from singan_seg_polyp import generate_data, prepare_requirements\n",
    "from singan_seg_polyp import style_transfer"
   ]
  },
  {
   "cell_type": "code",
   "execution_count": 2,
   "metadata": {},
   "outputs": [],
   "source": [
    "import pandas as pd"
   ]
  },
  {
   "cell_type": "code",
   "execution_count": 3,
   "metadata": {},
   "outputs": [
    {
     "name": "stdout",
     "output_type": "stream",
     "text": [
      "Help on function transfer_style in module singan_seg_polyp.style_transfer:\n",
      "\n",
      "transfer_style(content_img_path: str, style_img_path: str, num_epochs: int, content_weight: int, style_weight: int, device: torch.device, vgg_model: str, verbose=False, tqdm_position=0, tqdm_leave=True, *args, **kwargs) -> <module 'PIL.Image' from '/home/vajira/anaconda3/envs/pytorch18/lib/python3.8/site-packages/PIL/Image.py'>\n",
      "    Trnsfering style from a source image to a target image.\n",
      "    \n",
      "    Parameters\n",
      "    ==========\n",
      "    \n",
      "    content_img_path: str\n",
      "        A path to an image to which the style is going to be transfered.\n",
      "    style_img: str\n",
      "        A path to an image which has the required style to be transferred.\n",
      "    num_epochs: int\n",
      "        Number of epoch to iterate for transfering style to content image.\n",
      "    content_weight: int\n",
      "        Weight to keep the content of the destination image.\n",
      "    style_weight: int\n",
      "        Weight to transfer style from the source image.\n",
      "    device: torch.device\n",
      "        Torch device object, either \"CPU\" or \"CUDA\". Refer Pytoch documentation for more detials.\n",
      "    vgg_model: str\n",
      "        A model to extract features.\n",
      "    verbose: bool\n",
      "        If true, loss values will be printed to stdout.\n",
      "    \n",
      "    \n",
      "    \n",
      "    Return\n",
      "    =======\n",
      "    PIL.Image\n",
      "        Style transferred image.\n",
      "\n"
     ]
    }
   ],
   "source": [
    "help(style_transfer.transfer_style)"
   ]
  },
  {
   "cell_type": "code",
   "execution_count": 4,
   "metadata": {},
   "outputs": [
    {
     "name": "stdout",
     "output_type": "stream",
     "text": [
      "Help on function prepare_checkpoints in module singan_seg_polyp.prepare_requirements:\n",
      "\n",
      "prepare_checkpoints(path_to_checkpoints: str, link_keys=['link1', 'link2', 'link3', 'link4'], real_data=True, *args, **kwargs) -> str\n",
      "    The main function preparing checkpoints for pre-trained SinGANs of Polyp images.\n",
      "    \n",
      "    Parameters\n",
      "    -----------\n",
      "    path_to_checkpoints: str\n",
      "        A directory path to download checkpoints. \n",
      "    link_keys: list\n",
      "        A list of link keys: link1, link2, link3, link4. One or multiple link keys can be put in this list. \n",
      "    real_data: bool\n",
      "        If True, the real images and masks used to train SinGANs will be downloaded to the checkpoint directory.  \n",
      "    \n",
      "    Return\n",
      "    ------\n",
      "    checkpoint_paths_list, real_image_mask_pair_list\n",
      "        A sorted list of paths to downloaded checkpoints.\n",
      "        A sorted (image_path, mask_path) tuple list.\n",
      "\n"
     ]
    }
   ],
   "source": [
    "help(prepare_requirements.prepare_checkpoints)"
   ]
  },
  {
   "cell_type": "code",
   "execution_count": 5,
   "metadata": {},
   "outputs": [
    {
     "name": "stdout",
     "output_type": "stream",
     "text": [
      "Help on function generate_from_multiple_checkpoints in module singan_seg_polyp.generate_data:\n",
      "\n",
      "generate_from_multiple_checkpoints(out_dir: str, checkpoint_paths: list, *args, **kwargs) -> None\n",
      "    A function to generate synthetic polyp and correspondign mask from a given list of checkpoint paths.\n",
      "    \n",
      "    Parameters\n",
      "    ----------\n",
      "    out_dir: str\n",
      "        A path to save output data.\n",
      "    checkpoint_paths: list\n",
      "        A path list to downloaded checkpoints. To get paths, you have to run prepare_requirements.prepare_checkpoints() function.\n",
      "    num_samples: int\n",
      "        Number of random samples to generate from the given checkpoint. Default=1.\n",
      "    gen_start_scale: int\n",
      "        Predefined scales used in SinGAN training. You can use values between 0-9. Value 0 generates more random samples and value 9 generate sampels which are \n",
      "        very close to the training image.\n",
      "    mask_post_processing: bool\n",
      "        Whether the generated mask should be post processed or not. If True, generates mask is cleaned to have only 0 and 255. \n",
      "    \n",
      "    Returns\n",
      "    ------\n",
      "    None\n",
      "        This function does not have a return.\n",
      "\n"
     ]
    }
   ],
   "source": [
    "help(generate_data.generate_from_multiple_checkpoints)"
   ]
  },
  {
   "cell_type": "code",
   "execution_count": 6,
   "metadata": {},
   "outputs": [
    {
     "name": "stdout",
     "output_type": "stream",
     "text": [
      "Help on function generate_from_single_checkpoint in module singan_seg_polyp.generate_data:\n",
      "\n",
      "generate_from_single_checkpoint(out_dir: str, checkpoint_path: str, num_samples: int = 1, gen_start_scale: int = 5, mask_post_processing: bool = True) -> None\n",
      "    A function to generate synthetic polyp and correspondign mask from a given checkpoint path.\n",
      "    \n",
      "    Parameters\n",
      "    ----------\n",
      "    out_dir: str\n",
      "        A path to save output data.\n",
      "    checkpoint_path: str\n",
      "        A path to a downloaded checkpoint. To get paths, you have to run prepare_requirements.prepare_checkpoints() function.\n",
      "    num_samples: int\n",
      "        Number of random samples to generate from the given checkpoint. Default=1.\n",
      "    gen_start_scale: int\n",
      "        Predefined scales used in SinGAN training. You can use values between 0-9. Value 0 generates more random samples and value 9 generate sampels which are \n",
      "        very close to the training image.\n",
      "    mask_post_processing: bool\n",
      "        Whether the generated mask should be post processed or not. If True, generates mask is cleaned to have only 0 and 255. \n",
      "    \n",
      "    Returns\n",
      "    ------\n",
      "    None\n",
      "        This function does not have a return.\n",
      "\n"
     ]
    }
   ],
   "source": [
    "help(generate_data.generate_from_single_checkpoint)"
   ]
  },
  {
   "cell_type": "code",
   "execution_count": 7,
   "metadata": {},
   "outputs": [
    {
     "name": "stdout",
     "output_type": "stream",
     "text": [
      "Help on function generate_simple in module singan_seg_polyp.generate_data:\n",
      "\n",
      "generate_simple(out_dir: str, chk_dir: str, *args, **kwargs) -> None\n",
      "    A function to generate synthetic polyp and correspondign mask from all downloaded checkpoint paths.\n",
      "    \n",
      "    Parameters\n",
      "    ----------\n",
      "    out_dir: str\n",
      "        A path to save output data.\n",
      "    chk_dir: str\n",
      "        The path to checkpoint directory. If the directory does not have downloaded checkpoints, this function will download them.\n",
      "    num_samples: int\n",
      "        Number of random samples to generate from the given checkpoint. Default=1.\n",
      "    gen_start_scale: int\n",
      "        Predefined scales used in SinGAN training. You can use values between 0-9. Value 0 generates more random samples and value 9 generate sampels which are \n",
      "        very close to the training image.\n",
      "    mask_post_processing: bool\n",
      "        Whether the generated mask should be post processed or not. If True, generates mask is cleaned to have only 0 and 255. \n",
      "    \n",
      "    Returns\n",
      "    ------\n",
      "    None\n",
      "        This function does not have a return.\n",
      "\n"
     ]
    }
   ],
   "source": [
    "help(generate_data.generate_simple)"
   ]
  },
  {
   "cell_type": "code",
   "execution_count": 6,
   "metadata": {},
   "outputs": [],
   "source": [
    "output_dir = \"/work/vajira/DATA/sinGAN_polyps/synthetic_polyps_and_masks_10k\""
   ]
  },
  {
   "cell_type": "markdown",
   "metadata": {},
   "source": [
    "# Generate 100k synthetic polyp dataset"
   ]
  },
  {
   "cell_type": "code",
   "execution_count": 8,
   "metadata": {},
   "outputs": [
    {
     "name": "stdout",
     "output_type": "stream",
     "text": [
      "/work/vajira/DL/singan-seg-polyp/tutorial_notebooks\n",
      "/home/vajira/anaconda3/envs/pytorch18/lib/python3.8/site-packages/singan_polyp_aug\n",
      "/work/vajira/DL/singan-seg-polyp/tutorial_notebooks\n",
      "/home/vajira/anaconda3/envs/pytorch18/lib/python3.8/site-packages/singan_polyp_aug\n",
      "https://www.dropbox.com/s/19xq87x4xanuy4t/TrainedModels_1_clean.zip?dl=1\n",
      "The directory:/work/vajira/DATA/sinGAN_polyps/singan_test_2/TrainedModels_1_clean is already exists.\n",
      "https://www.dropbox.com/s/0i7io4tkpoccmq4/TrainedModels_2_clean.zip?dl=1\n",
      "The directory:/work/vajira/DATA/sinGAN_polyps/singan_test_2/TrainedModels_2_clean is already exists.\n",
      "https://www.dropbox.com/s/hsdpkifid9prtst/TrainedModels_3_clean.zip?dl=1\n",
      "The directory:/work/vajira/DATA/sinGAN_polyps/singan_test_2/TrainedModels_3_clean is already exists.\n",
      "https://www.dropbox.com/s/hzu470zcmy5ygf1/TrainedModels_4_clean.zip?dl=1\n",
      "The directory:/work/vajira/DATA/sinGAN_polyps/singan_test_2/TrainedModels_4_clean is already exists.\n",
      "The directory:/work/vajira/DATA/sinGAN_polyps/singan_test_2/real_images is already exists.\n",
      "The directory:/work/vajira/DATA/sinGAN_polyps/singan_test_2/real_masks is already exists.\n"
     ]
    },
    {
     "name": "stderr",
     "output_type": "stream",
     "text": [
      "  0%|          | 0/1000 [00:00<?, ?it/s]"
     ]
    },
    {
     "name": "stdout",
     "output_type": "stream",
     "text": [
      "2\n"
     ]
    },
    {
     "name": "stderr",
     "output_type": "stream",
     "text": [
      "100%|██████████| 1000/1000 [08:26<00:00,  1.97it/s]\n"
     ]
    }
   ],
   "source": [
    "generate_data.generate_simple(output_dir, \"/work/vajira/DATA/sinGAN_polyps/singan_test_2\", gen_start_scale=0, num_samples=10)"
   ]
  },
  {
   "cell_type": "code",
   "execution_count": null,
   "metadata": {},
   "outputs": [],
   "source": []
  },
  {
   "cell_type": "code",
   "execution_count": null,
   "metadata": {},
   "outputs": [],
   "source": []
  },
  {
   "cell_type": "code",
   "execution_count": null,
   "metadata": {},
   "outputs": [],
   "source": []
  }
 ],
 "metadata": {
  "kernelspec": {
   "display_name": "pytorch18",
   "language": "python",
   "name": "pytorch18"
  },
  "language_info": {
   "codemirror_mode": {
    "name": "ipython",
    "version": 3
   },
   "file_extension": ".py",
   "mimetype": "text/x-python",
   "name": "python",
   "nbconvert_exporter": "python",
   "pygments_lexer": "ipython3",
   "version": "3.8.8"
  }
 },
 "nbformat": 4,
 "nbformat_minor": 4
}
