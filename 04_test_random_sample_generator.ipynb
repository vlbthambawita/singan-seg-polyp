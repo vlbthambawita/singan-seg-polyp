{
 "cells": [
  {
   "cell_type": "code",
   "execution_count": 1,
   "metadata": {},
   "outputs": [
    {
     "name": "stdout",
     "output_type": "stream",
     "text": [
      "/work/vajira/DL/singan-polyp-aug\n"
     ]
    }
   ],
   "source": [
    "%cd /work/vajira/DL/singan-polyp-aug"
   ]
  },
  {
   "cell_type": "code",
   "execution_count": 2,
   "metadata": {},
   "outputs": [],
   "source": [
    "from singan_polyp_aug.config import get_arguments\n",
    "from singan_polyp_aug.SinGAN.manipulate import *\n",
    "from singan_polyp_aug.SinGAN.training import *\n",
    "from singan_polyp_aug.SinGAN.imresize import imresize\n",
    "import singan_polyp_aug.SinGAN.functions as functions\n",
    "\n"
   ]
  },
  {
   "cell_type": "code",
   "execution_count": 3,
   "metadata": {},
   "outputs": [],
   "source": [
    "# from config import get_arguments\n",
    "# from SinGAN.manipulate import *\n",
    "#from SinGAN.training import *\n",
    "#from SinGAN.imresize import imresize\n",
    "#import SinGAN.functions as functions"
   ]
  },
  {
   "cell_type": "code",
   "execution_count": 4,
   "metadata": {},
   "outputs": [],
   "source": [
    "#torch.cuda.set_device(11)"
   ]
  },
  {
   "cell_type": "code",
   "execution_count": 5,
   "metadata": {},
   "outputs": [
    {
     "name": "stdout",
     "output_type": "stream",
     "text": [
      "Random Seed:  5810\n"
     ]
    }
   ],
   "source": [
    "parser = get_arguments()\n",
    "parser.add_argument('--input_dir', help='input image dir', default='/work/vajira/DATA/hyper_kvasir/data_new/segmented_train_val/data/img_and_mask_together')\n",
    "parser.add_argument('--input_name', help='input image name', default=\"cju2u73dj53oz0878486k8k4b.png\")\n",
    "parser.add_argument('--mode', help='random_samples | random_samples_arbitrary_sizes', default='random_samples')\n",
    "# for random_samples:\n",
    "parser.add_argument('--gen_start_scale', type=int, help='generation start scale', default=0)\n",
    "# for random_samples_arbitrary_sizes:\n",
    "parser.add_argument('--scale_h', type=float, help='horizontal resize factor for random samples', default=1.5)\n",
    "parser.add_argument('--scale_v', type=float, help='vertical resize factor for random samples', default=1)\n",
    "opt = parser.parse_args(\"\")\n",
    "opt = functions.post_config(opt)"
   ]
  },
  {
   "cell_type": "code",
   "execution_count": 19,
   "metadata": {},
   "outputs": [],
   "source": [
    "opt.gen_start_scale = 8\n",
    "opt.nc_z = 4\n",
    "opt.nc_im = 4\n",
    "opt.device = torch.device(\"cpu\" if opt.not_cuda else \"cuda:0\")"
   ]
  },
  {
   "cell_type": "code",
   "execution_count": 20,
   "metadata": {},
   "outputs": [],
   "source": [
    "Gs = []\n",
    "Zs = []\n",
    "reals = []\n",
    "NoiseAmp = []\n",
    "dir2save = functions.generate_dir2save(opt)"
   ]
  },
  {
   "cell_type": "code",
   "execution_count": 21,
   "metadata": {},
   "outputs": [],
   "source": [
    "#os.makedirs(dir2save)"
   ]
  },
  {
   "cell_type": "code",
   "execution_count": 22,
   "metadata": {},
   "outputs": [
    {
     "name": "stdout",
     "output_type": "stream",
     "text": [
      "X shape= (529, 524, 4)\n",
      "x after imread=== (529, 524, 4)\n"
     ]
    }
   ],
   "source": [
    "real = functions.read_image(opt)"
   ]
  },
  {
   "cell_type": "code",
   "execution_count": 23,
   "metadata": {},
   "outputs": [
    {
     "data": {
      "text/plain": [
       "tensor([[[[-1., -1., -1.,  ..., -1., -1., -1.],\n",
       "          [-1., -1., -1.,  ..., -1., -1., -1.],\n",
       "          [-1., -1., -1.,  ..., -1., -1., -1.],\n",
       "          ...,\n",
       "          [-1., -1., -1.,  ..., -1., -1., -1.],\n",
       "          [-1., -1., -1.,  ..., -1., -1., -1.],\n",
       "          [-1., -1., -1.,  ..., -1., -1., -1.]],\n",
       "\n",
       "         [[-1., -1., -1.,  ..., -1., -1., -1.],\n",
       "          [-1., -1., -1.,  ..., -1., -1., -1.],\n",
       "          [-1., -1., -1.,  ..., -1., -1., -1.],\n",
       "          ...,\n",
       "          [-1., -1., -1.,  ..., -1., -1., -1.],\n",
       "          [-1., -1., -1.,  ..., -1., -1., -1.],\n",
       "          [-1., -1., -1.,  ..., -1., -1., -1.]],\n",
       "\n",
       "         [[-1., -1., -1.,  ..., -1., -1., -1.],\n",
       "          [-1., -1., -1.,  ..., -1., -1., -1.],\n",
       "          [-1., -1., -1.,  ..., -1., -1., -1.],\n",
       "          ...,\n",
       "          [-1., -1., -1.,  ..., -1., -1., -1.],\n",
       "          [-1., -1., -1.,  ..., -1., -1., -1.],\n",
       "          [-1., -1., -1.,  ..., -1., -1., -1.]],\n",
       "\n",
       "         [[-1., -1., -1.,  ..., -1., -1., -1.],\n",
       "          [-1., -1., -1.,  ..., -1., -1., -1.],\n",
       "          [-1., -1., -1.,  ..., -1., -1., -1.],\n",
       "          ...,\n",
       "          [-1., -1., -1.,  ..., -1., -1., -1.],\n",
       "          [-1., -1., -1.,  ..., -1., -1., -1.],\n",
       "          [-1., -1., -1.,  ..., -1., -1., -1.]]]], device='cuda:0')"
      ]
     },
     "execution_count": 23,
     "metadata": {},
     "output_type": "execute_result"
    }
   ],
   "source": [
    "functions.adjust_scales2image(real, opt)"
   ]
  },
  {
   "cell_type": "code",
   "execution_count": 24,
   "metadata": {},
   "outputs": [],
   "source": [
    "#Gs, Zs, reals, NoiseAmp = functions.load_trained_pyramid(opt)"
   ]
  },
  {
   "cell_type": "code",
   "execution_count": 25,
   "metadata": {},
   "outputs": [],
   "source": [
    "Gs_path = \"/work/vajira/DL/sinGAN/SinGAN-aug/TrainedModels/cju2u73dj53oz0878486k8k4b/scale_factor=0.750000,alpha=10/Gs.pth\"\n",
    "noise_path = \"/work/vajira/DL/sinGAN/SinGAN-aug/TrainedModels/cju2u73dj53oz0878486k8k4b/scale_factor=0.750000,alpha=10/NoiseAmp.pth\"\n",
    "reals_path = \"/work/vajira/DL/sinGAN/SinGAN-aug/TrainedModels/cju2u73dj53oz0878486k8k4b/scale_factor=0.750000,alpha=10/reals.pth\"\n",
    "z_path = \"/work/vajira/DL/sinGAN/SinGAN-aug/TrainedModels/cju2u73dj53oz0878486k8k4b/scale_factor=0.750000,alpha=10/Zs.pth\""
   ]
  },
  {
   "cell_type": "code",
   "execution_count": 26,
   "metadata": {},
   "outputs": [],
   "source": [
    "Gs = torch.load(Gs_path)\n",
    "reals = torch.load(reals_path)\n",
    "Zs = torch.load(z_path)\n",
    "NoiseAmp = torch.load(noise_path)"
   ]
  },
  {
   "cell_type": "code",
   "execution_count": 27,
   "metadata": {},
   "outputs": [
    {
     "data": {
      "text/plain": [
       "10"
      ]
     },
     "execution_count": 27,
     "metadata": {},
     "output_type": "execute_result"
    }
   ],
   "source": [
    "len(Gs)"
   ]
  },
  {
   "cell_type": "code",
   "execution_count": 28,
   "metadata": {},
   "outputs": [],
   "source": [
    "#Gs"
   ]
  },
  {
   "cell_type": "code",
   "execution_count": 29,
   "metadata": {},
   "outputs": [
    {
     "data": {
      "text/plain": [
       "10"
      ]
     },
     "execution_count": 29,
     "metadata": {},
     "output_type": "execute_result"
    }
   ],
   "source": [
    "len(Zs)"
   ]
  },
  {
   "cell_type": "code",
   "execution_count": null,
   "metadata": {},
   "outputs": [],
   "source": []
  },
  {
   "cell_type": "code",
   "execution_count": 30,
   "metadata": {},
   "outputs": [],
   "source": [
    "in_s = functions.generate_in2coarsest(reals,1,1,opt)"
   ]
  },
  {
   "cell_type": "code",
   "execution_count": 31,
   "metadata": {},
   "outputs": [
    {
     "data": {
      "text/plain": [
       "tensor([[[[-0.9179, -0.8526, -0.8704,  ..., -0.9495, -1.0443, -0.9329],\n",
       "          [-0.8830, -0.8820, -0.8675,  ..., -0.8754, -0.9307, -0.9866],\n",
       "          [-0.9048, -0.9006, -0.9031,  ..., -0.9081, -0.8833, -0.8878],\n",
       "          ...,\n",
       "          [-0.9604, -0.9351, -0.9219,  ..., -0.8675, -0.8496, -0.8164],\n",
       "          [-1.0116, -0.9772, -0.9639,  ..., -0.9042, -0.9272, -0.8944],\n",
       "          [-1.0232, -1.0202, -0.9778,  ..., -0.9223, -0.9255, -0.9686]],\n",
       "\n",
       "         [[-0.9778, -0.9619, -0.9109,  ..., -0.9903, -1.0651, -0.9727],\n",
       "          [-0.9520, -1.0007, -0.9582,  ..., -0.9617, -1.0322, -1.0497],\n",
       "          [-0.9384, -0.9863, -0.9929,  ..., -0.9692, -0.9927, -0.9875],\n",
       "          ...,\n",
       "          [-1.0156, -1.0062, -0.9791,  ..., -0.9244, -0.9703, -0.9297],\n",
       "          [-1.0805, -1.0573, -1.0248,  ..., -0.9640, -1.0242, -0.9662],\n",
       "          [-1.0825, -1.0814, -1.0428,  ..., -0.9796, -0.9971, -1.0011]],\n",
       "\n",
       "         [[-0.9800, -1.0035, -0.9976,  ..., -0.9986, -1.0787, -0.9856],\n",
       "          [-0.9466, -1.0140, -0.9908,  ..., -0.9764, -0.9852, -1.0244],\n",
       "          [-0.9450, -0.9973, -1.0124,  ..., -0.9759, -0.9910, -0.9959],\n",
       "          ...,\n",
       "          [-1.0287, -1.0403, -1.0508,  ..., -1.0074, -1.0334, -0.9724],\n",
       "          [-1.0332, -1.0223, -1.0123,  ..., -0.9761, -1.0418, -1.0365],\n",
       "          [-1.0528, -1.0356, -1.0103,  ..., -0.9887, -1.0126, -1.0580]],\n",
       "\n",
       "         [[-0.8895, -0.8432, -0.8611,  ..., -0.9808, -0.9917, -0.9331],\n",
       "          [-0.9106, -0.8593, -0.8406,  ..., -0.9825, -0.9559, -0.9007],\n",
       "          [-0.9456, -0.9194, -0.9066,  ..., -0.9632, -0.9333, -0.8837],\n",
       "          ...,\n",
       "          [-0.9915, -0.9442, -0.8986,  ..., -0.9527, -0.9318, -0.8954],\n",
       "          [-0.9912, -0.9593, -0.9213,  ..., -0.9654, -0.9468, -0.9289],\n",
       "          [-0.9953, -0.9684, -0.9242,  ..., -0.9628, -0.9554, -0.9387]]]],\n",
       "       device='cuda:0')"
      ]
     },
     "execution_count": 31,
     "metadata": {},
     "output_type": "execute_result"
    }
   ],
   "source": [
    "SinGAN_generate(Gs, Zs, reals, NoiseAmp, opt, gen_start_scale=opt.gen_start_scale)"
   ]
  },
  {
   "cell_type": "code",
   "execution_count": null,
   "metadata": {},
   "outputs": [],
   "source": []
  }
 ],
 "metadata": {
  "kernelspec": {
   "display_name": "firstEnv",
   "language": "python",
   "name": "firstenv"
  },
  "language_info": {
   "codemirror_mode": {
    "name": "ipython",
    "version": 3
   },
   "file_extension": ".py",
   "mimetype": "text/x-python",
   "name": "python",
   "nbconvert_exporter": "python",
   "pygments_lexer": "ipython3",
   "version": "3.8.3"
  }
 },
 "nbformat": 4,
 "nbformat_minor": 2
}
