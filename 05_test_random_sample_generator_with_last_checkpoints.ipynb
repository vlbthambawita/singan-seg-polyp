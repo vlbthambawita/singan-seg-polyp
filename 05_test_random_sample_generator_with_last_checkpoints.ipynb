{
 "cells": [
  {
   "cell_type": "code",
   "execution_count": 2,
   "metadata": {},
   "outputs": [
    {
     "name": "stdout",
     "output_type": "stream",
     "text": [
      "/home/vajira/DL/singan-polyp-aug\n"
     ]
    }
   ],
   "source": [
    "%cd /home/vajira/DL/singan-polyp-aug"
   ]
  },
  {
   "cell_type": "code",
   "execution_count": 3,
   "metadata": {},
   "outputs": [],
   "source": [
    "import matplotlib.pyplot as plt\n",
    "import numpy as np"
   ]
  },
  {
   "cell_type": "code",
   "execution_count": 4,
   "metadata": {},
   "outputs": [],
   "source": [
    "from singan_polyp_aug.config import get_arguments\n",
    "from singan_polyp_aug.SinGAN.manipulate import *\n",
    "from singan_polyp_aug.SinGAN.training import *\n",
    "from singan_polyp_aug.SinGAN.imresize import imresize\n",
    "import singan_polyp_aug.SinGAN.functions as functions\n",
    "\n"
   ]
  },
  {
   "cell_type": "code",
   "execution_count": 4,
   "metadata": {},
   "outputs": [],
   "source": [
    "# from config import get_arguments\n",
    "# from SinGAN.manipulate import *\n",
    "#from SinGAN.training import *\n",
    "#from SinGAN.imresize import imresize\n",
    "#import SinGAN.functions as functions"
   ]
  },
  {
   "cell_type": "code",
   "execution_count": 5,
   "metadata": {},
   "outputs": [],
   "source": [
    "#torch.cuda.set_device(11)"
   ]
  },
  {
   "cell_type": "code",
   "execution_count": 5,
   "metadata": {},
   "outputs": [],
   "source": [
    "chk_point_dir = \"/work/vajira/data/singan_checkpoints/TrainedModels_1_clean\""
   ]
  },
  {
   "cell_type": "code",
   "execution_count": 6,
   "metadata": {},
   "outputs": [],
   "source": [
    "new_output_dir = \"/work/vajira/data/singan_checkpoints/sample_out\" #trying to get output to this directory"
   ]
  },
  {
   "cell_type": "code",
   "execution_count": 7,
   "metadata": {},
   "outputs": [
    {
     "name": "stdout",
     "output_type": "stream",
     "text": [
      "Random Seed:  7815\n"
     ]
    }
   ],
   "source": [
    "parser = get_arguments()\n",
    "#parser.add_argument('--input_dir', help='input image dir', default='/work/vajira/DATA/hyper_kvasir/data_new/segmented_train_val/data/img_and_mask_together')\n",
    "parser.add_argument('--input_name', help='input image name', default=\"\")\n",
    "parser.add_argument('--mode', help='random_samples | random_samples_arbitrary_sizes', default='random_samples')\n",
    "# for random_samples:\n",
    "parser.add_argument('--gen_start_scale', type=int, help='generation start scale', default=0)\n",
    "# for random_samples_arbitrary_sizes:\n",
    "parser.add_argument('--scale_h', type=float, help='horizontal resize factor for random samples', default=1.5)\n",
    "parser.add_argument('--scale_v', type=float, help='vertical resize factor for random samples', default=1)\n",
    "opt = parser.parse_args(\"\")\n",
    "opt = functions.post_config(opt)"
   ]
  },
  {
   "cell_type": "code",
   "execution_count": 8,
   "metadata": {},
   "outputs": [],
   "source": [
    "index = 3 \n",
    "gen_start_scale = 5"
   ]
  },
  {
   "cell_type": "code",
   "execution_count": 9,
   "metadata": {},
   "outputs": [],
   "source": [
    "opt.input_name = str(index)"
   ]
  },
  {
   "cell_type": "code",
   "execution_count": 10,
   "metadata": {},
   "outputs": [],
   "source": [
    "opt.gen_start_scale = gen_start_scale\n",
    "opt.nc_z = 4\n",
    "opt.nc_im = 4\n",
    "opt.device = torch.device(\"cpu\" if opt.not_cuda else \"cuda:0\")\n",
    "opt.input_name = opt.input_name + \".jpg\" # to match with original shirnking function"
   ]
  },
  {
   "cell_type": "code",
   "execution_count": 11,
   "metadata": {},
   "outputs": [],
   "source": [
    "opt.out = new_output_dir"
   ]
  },
  {
   "cell_type": "code",
   "execution_count": 20,
   "metadata": {},
   "outputs": [
    {
     "data": {
      "text/plain": [
       "device(type='cuda', index=0)"
      ]
     },
     "execution_count": 20,
     "metadata": {},
     "output_type": "execute_result"
    }
   ],
   "source": [
    "opt.device"
   ]
  },
  {
   "cell_type": "code",
   "execution_count": 12,
   "metadata": {},
   "outputs": [],
   "source": [
    "#Gs = []\n",
    "#Zs = []\n",
    "#reals = []\n",
    "#NoiseAmp = []\n",
    "#dir2save = functions.generate_dir2save(opt)"
   ]
  },
  {
   "cell_type": "code",
   "execution_count": 13,
   "metadata": {},
   "outputs": [],
   "source": [
    "#os.makedirs(dir2save)"
   ]
  },
  {
   "cell_type": "code",
   "execution_count": 14,
   "metadata": {},
   "outputs": [],
   "source": [
    "#real = functions.read_image(opt)"
   ]
  },
  {
   "cell_type": "code",
   "execution_count": 15,
   "metadata": {},
   "outputs": [],
   "source": [
    "#print(opt.num_scales)\n",
    "#print(opt.stop_scale)\n",
    "#print(opt.scale1)\n",
    "#print(opt.scale_factor)"
   ]
  },
  {
   "cell_type": "code",
   "execution_count": 16,
   "metadata": {},
   "outputs": [],
   "source": [
    "#functions.adjust_scales2image(real, opt)"
   ]
  },
  {
   "cell_type": "code",
   "execution_count": 17,
   "metadata": {},
   "outputs": [],
   "source": [
    "#print(opt.num_scales)\n",
    "#print(opt.stop_scale)\n",
    "#print(opt.scale1)\n",
    "#print(opt.scale_factor)\n"
   ]
  },
  {
   "cell_type": "code",
   "execution_count": 18,
   "metadata": {},
   "outputs": [],
   "source": [
    "#Gs, Zs, reals, NoiseAmp = functions.load_trained_pyramid(opt)"
   ]
  },
  {
   "cell_type": "code",
   "execution_count": 19,
   "metadata": {},
   "outputs": [],
   "source": [
    "Gs_path = f\"{chk_point_dir}/{index}/Gs.pth\"\n",
    "noise_path = f\"{chk_point_dir}/{index}/NoiseAmp.pth\"\n",
    "reals_path = f\"{chk_point_dir}/{index}/reals.pth\"\n",
    "z_path = f\"{chk_point_dir}/{index}/Zs.pth\""
   ]
  },
  {
   "cell_type": "code",
   "execution_count": 22,
   "metadata": {},
   "outputs": [],
   "source": [
    "Gs = torch.load(Gs_path)\n",
    "reals = torch.load(reals_path)\n",
    "Zs = torch.load(z_path)\n",
    "NoiseAmp = torch.load(noise_path)"
   ]
  },
  {
   "cell_type": "code",
   "execution_count": 23,
   "metadata": {},
   "outputs": [],
   "source": [
    "#reals[8].squeeze().shape\n",
    "#plt.imshow(np.transpose(reals[8].squeeze().cpu(), (1,2,0))[:,:,3])"
   ]
  },
  {
   "cell_type": "code",
   "execution_count": 24,
   "metadata": {},
   "outputs": [],
   "source": [
    "#len(Gs)"
   ]
  },
  {
   "cell_type": "code",
   "execution_count": 25,
   "metadata": {},
   "outputs": [],
   "source": [
    "#Gs"
   ]
  },
  {
   "cell_type": "code",
   "execution_count": 26,
   "metadata": {},
   "outputs": [],
   "source": [
    "#len(Zs)"
   ]
  },
  {
   "cell_type": "code",
   "execution_count": null,
   "metadata": {},
   "outputs": [],
   "source": []
  },
  {
   "cell_type": "code",
   "execution_count": 27,
   "metadata": {},
   "outputs": [],
   "source": [
    "#in_s = functions.generate_in2coarsest(reals,1,1,opt)"
   ]
  },
  {
   "cell_type": "code",
   "execution_count": 28,
   "metadata": {},
   "outputs": [
    {
     "data": {
      "text/plain": [
       "tensor([[[[-0.9721, -1.0207, -0.9868,  ..., -1.0640, -1.1342, -1.1238],\n",
       "          [-0.9069, -1.0400, -1.0366,  ..., -1.0864, -1.1704, -1.2017],\n",
       "          [-0.9949, -1.0623, -1.0558,  ..., -1.0560, -1.1108, -1.1726],\n",
       "          ...,\n",
       "          [-1.0072, -1.0139, -1.0089,  ...,  0.3402,  0.3336,  0.1379],\n",
       "          [-1.1329, -1.0627, -1.0005,  ...,  0.2590,  0.2285,  0.1032],\n",
       "          [-1.1507, -1.0326, -0.9462,  ...,  0.2064,  0.1892,  0.0582]],\n",
       "\n",
       "         [[-1.0238, -1.0159, -0.9388,  ..., -1.0406, -1.1554, -1.1276],\n",
       "          [-1.0261, -1.0369, -0.9219,  ..., -1.0109, -1.1144, -1.0939],\n",
       "          [-1.0060, -1.0281, -0.9360,  ..., -1.0506, -1.1156, -1.0804],\n",
       "          ...,\n",
       "          [-0.9877, -1.0166, -0.9757,  ..., -0.2622, -0.3524, -0.3833],\n",
       "          [-1.0971, -1.0485, -0.9782,  ..., -0.3471, -0.3853, -0.3768],\n",
       "          [-1.0804, -0.9895, -0.8978,  ..., -0.2904, -0.3004, -0.3235]],\n",
       "\n",
       "         [[-1.0839, -1.0481, -0.9816,  ..., -1.0195, -1.1259, -1.1184],\n",
       "          [-1.0526, -1.0765, -1.0102,  ..., -1.0745, -1.1649, -1.1752],\n",
       "          [-1.0293, -1.0835, -1.0493,  ..., -1.0426, -1.1064, -1.1859],\n",
       "          ...,\n",
       "          [-0.9958, -0.9982, -0.9564,  ..., -0.4067, -0.4698, -0.5337],\n",
       "          [-1.0837, -1.0353, -0.9153,  ..., -0.4552, -0.4898, -0.5205],\n",
       "          [-1.0898, -0.9807, -0.8661,  ..., -0.4698, -0.4730, -0.5326]],\n",
       "\n",
       "         [[-0.9594, -0.9885, -0.9644,  ..., -0.9384, -0.9463, -1.0461],\n",
       "          [-0.8999, -0.9578, -1.0052,  ..., -1.0015, -0.9644, -1.0340],\n",
       "          [-0.9345, -0.9689, -1.0054,  ..., -1.0322, -0.9827, -1.0140],\n",
       "          ...,\n",
       "          [-0.9553, -0.9544, -0.9646,  ..., -1.0481, -1.0106, -1.2315],\n",
       "          [-1.0663, -1.0251, -0.9943,  ..., -1.0544, -1.0375, -1.2275],\n",
       "          [-1.1526, -1.1076, -1.0250,  ..., -1.1070, -1.0973, -1.2430]]]],\n",
       "       device='cuda:0')"
      ]
     },
     "execution_count": 28,
     "metadata": {},
     "output_type": "execute_result"
    }
   ],
   "source": [
    "SinGAN_generate(Gs, Zs, reals, NoiseAmp, opt, gen_start_scale=opt.gen_start_scale, num_samples=5)"
   ]
  },
  {
   "cell_type": "code",
   "execution_count": null,
   "metadata": {},
   "outputs": [],
   "source": []
  },
  {
   "cell_type": "code",
   "execution_count": null,
   "metadata": {},
   "outputs": [],
   "source": []
  }
 ],
 "metadata": {
  "kernelspec": {
   "display_name": "pytorch_new",
   "language": "python",
   "name": "pytorch_new"
  },
  "language_info": {
   "codemirror_mode": {
    "name": "ipython",
    "version": 3
   },
   "file_extension": ".py",
   "mimetype": "text/x-python",
   "name": "python",
   "nbconvert_exporter": "python",
   "pygments_lexer": "ipython3",
   "version": "3.6.12"
  }
 },
 "nbformat": 4,
 "nbformat_minor": 4
}
