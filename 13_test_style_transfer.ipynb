{
 "cells": [
  {
   "cell_type": "code",
   "execution_count": 1,
   "id": "141aef65-bb3d-4ed7-aad1-20336008c45d",
   "metadata": {},
   "outputs": [],
   "source": [
    "from singan_polyp_aug import style_transfer\n",
    "import os\n",
    "from PIL import Image\n",
    "import torch"
   ]
  },
  {
   "cell_type": "code",
   "execution_count": 2,
   "id": "8a431350-81d0-4c64-ad46-f499f556a650",
   "metadata": {},
   "outputs": [],
   "source": [
    "device = torch.device(\"cuda:0\" if torch.cuda.is_available() else \"cpu\")"
   ]
  },
  {
   "cell_type": "code",
   "execution_count": 3,
   "id": "96a72dc5-1946-4d96-a905-2fb86242d747",
   "metadata": {},
   "outputs": [],
   "source": [
    "#help(singan_polyp_aug)"
   ]
  },
  {
   "cell_type": "code",
   "execution_count": 4,
   "id": "13ff3d87-d262-4cd7-aaab-2572a0b798e5",
   "metadata": {},
   "outputs": [],
   "source": [
    "real_image_dir = \"/home/vajira/data/singan_polyp_checkpoints/real_images\"\n",
    "fake_image_dir = \"/work/vajira/DATA/sinGAN_polyps/singan_out\""
   ]
  },
  {
   "cell_type": "code",
   "execution_count": 5,
   "id": "430b22ae-e416-483c-a3f4-2b0f0fd52b6c",
   "metadata": {},
   "outputs": [],
   "source": [
    "real_img_path = os.path.join(real_image_dir, \"14.jpg\")\n",
    "fake_img_path = os.path.join(fake_image_dir, \"chk_id_14_gen_scale_0_2_img.png\")"
   ]
  },
  {
   "cell_type": "code",
   "execution_count": 6,
   "id": "ef69f269-bbc2-471a-a5e3-39101dc823df",
   "metadata": {},
   "outputs": [],
   "source": [
    "#style_transfer.transfer_style(fake_img_path, real_img_path, 1000, content_weight=10, style_weight=10, device = device, vgg_model=\"vgg16\")"
   ]
  },
  {
   "cell_type": "code",
   "execution_count": null,
   "id": "4fb364b0-02d6-4264-8ad9-ccd54d018c50",
   "metadata": {},
   "outputs": [],
   "source": []
  },
  {
   "cell_type": "code",
   "execution_count": 7,
   "id": "2667de70-ef0f-484f-88a7-0b3cc62322c3",
   "metadata": {},
   "outputs": [],
   "source": [
    "generated_img_dir = \"/work/vajira/DATA/sinGAN_polyps/singan_out\"\n",
    "real_img_dir = \"/home/vajira/data/singan_polyp_checkpoints/real_images\"\n",
    "\n",
    "out_dir = \"/work/vajira/DATA/sinGAN_polyps/singan_out_style_transfered\""
   ]
  },
  {
   "cell_type": "code",
   "execution_count": 8,
   "id": "0a5a8e59-8f21-46c8-a86a-fb0e9405c529",
   "metadata": {},
   "outputs": [
    {
     "name": "stderr",
     "output_type": "stream",
     "text": [
      "                                                                                                                 \r"
     ]
    },
    {
     "ename": "KeyboardInterrupt",
     "evalue": "",
     "output_type": "error",
     "traceback": [
      "\u001b[0;31m---------------------------------------------------------------------------\u001b[0m",
      "\u001b[0;31mKeyboardInterrupt\u001b[0m                         Traceback (most recent call last)",
      "\u001b[0;32m<ipython-input-8-c6e3d790a1cf>\u001b[0m in \u001b[0;36m<module>\u001b[0;34m\u001b[0m\n\u001b[0;32m----> 1\u001b[0;31m \u001b[0mstyle_transfer\u001b[0m\u001b[0;34m.\u001b[0m\u001b[0mtransfer_style_to_folder\u001b[0m\u001b[0;34m(\u001b[0m\u001b[0mgenerated_img_dir\u001b[0m\u001b[0;34m,\u001b[0m \u001b[0mreal_img_dir\u001b[0m\u001b[0;34m,\u001b[0m  \u001b[0mout_dir\u001b[0m\u001b[0;34m,\u001b[0m \u001b[0;36m1000\u001b[0m\u001b[0;34m,\u001b[0m \u001b[0mcontent_weight\u001b[0m\u001b[0;34m=\u001b[0m\u001b[0;36m10\u001b[0m\u001b[0;34m,\u001b[0m \u001b[0mstyle_weight\u001b[0m\u001b[0;34m=\u001b[0m\u001b[0;36m10\u001b[0m\u001b[0;34m,\u001b[0m \u001b[0mdevice\u001b[0m \u001b[0;34m=\u001b[0m \u001b[0mdevice\u001b[0m\u001b[0;34m,\u001b[0m \u001b[0mvgg_model\u001b[0m\u001b[0;34m=\u001b[0m\u001b[0;34m\"vgg16\"\u001b[0m\u001b[0;34m)\u001b[0m\u001b[0;34m\u001b[0m\u001b[0;34m\u001b[0m\u001b[0m\n\u001b[0m",
      "\u001b[0;32m/work/vajira/DL/singan-polyp-aug/singan_polyp_aug/style_transfer.py\u001b[0m in \u001b[0;36mtransfer_style_to_folder\u001b[0;34m(generated_img_dir_path, real_img_dir_path, output_dir, num_epochs, content_weight, style_weight, device, vgg_model, verbose, *args, **kwargs)\u001b[0m\n\u001b[1;32m    178\u001b[0m         \u001b[0;31m#print(\"real_img_path=\", real_img_path)\u001b[0m\u001b[0;34m\u001b[0m\u001b[0;34m\u001b[0m\u001b[0;34m\u001b[0m\u001b[0m\n\u001b[1;32m    179\u001b[0m \u001b[0;34m\u001b[0m\u001b[0m\n\u001b[0;32m--> 180\u001b[0;31m         out_img = transfer_style(gen_img_path, real_img_path,\n\u001b[0m\u001b[1;32m    181\u001b[0m                                  \u001b[0mnum_epochs\u001b[0m\u001b[0;34m,\u001b[0m \u001b[0mcontent_weight\u001b[0m\u001b[0;34m,\u001b[0m \u001b[0mstyle_weight\u001b[0m\u001b[0;34m,\u001b[0m\u001b[0;34m\u001b[0m\u001b[0;34m\u001b[0m\u001b[0m\n\u001b[1;32m    182\u001b[0m                                  \u001b[0mdevice\u001b[0m\u001b[0;34m,\u001b[0m \u001b[0mvgg_model\u001b[0m\u001b[0;34m,\u001b[0m \u001b[0mverbose\u001b[0m\u001b[0;34m,\u001b[0m \u001b[0mtqdm_position\u001b[0m\u001b[0;34m=\u001b[0m\u001b[0;36m0\u001b[0m\u001b[0;34m,\u001b[0m \u001b[0mtqdm_leave\u001b[0m\u001b[0;34m=\u001b[0m\u001b[0;32mFalse\u001b[0m\u001b[0;34m,\u001b[0m\u001b[0;34m\u001b[0m\u001b[0;34m\u001b[0m\u001b[0m\n",
      "\u001b[0;32m/work/vajira/DL/singan-polyp-aug/singan_polyp_aug/style_transfer.py\u001b[0m in \u001b[0;36mtransfer_style\u001b[0;34m(content_img_path, style_img_path, num_epochs, content_weight, style_weight, device, vgg_model, verbose, tqdm_position, tqdm_leave, *args, **kwargs)\u001b[0m\n\u001b[1;32m    138\u001b[0m         \u001b[0moptimizer\u001b[0m\u001b[0;34m.\u001b[0m\u001b[0mstep\u001b[0m\u001b[0;34m(\u001b[0m\u001b[0;34m)\u001b[0m\u001b[0;34m\u001b[0m\u001b[0;34m\u001b[0m\u001b[0m\n\u001b[1;32m    139\u001b[0m \u001b[0;34m\u001b[0m\u001b[0m\n\u001b[0;32m--> 140\u001b[0;31m         \u001b[0mt\u001b[0m\u001b[0;34m.\u001b[0m\u001b[0mset_description\u001b[0m\u001b[0;34m(\u001b[0m\u001b[0;34m'Progress: epoch {}, content loss: {:.2}, style loss {:.2}'\u001b[0m\u001b[0;34m.\u001b[0m\u001b[0mformat\u001b[0m\u001b[0;34m(\u001b[0m\u001b[0mepoch\u001b[0m\u001b[0;34m,\u001b[0m\u001b[0mcontent_loss\u001b[0m\u001b[0;34m,\u001b[0m\u001b[0mstyle_loss\u001b[0m\u001b[0;34m)\u001b[0m\u001b[0;34m)\u001b[0m\u001b[0;34m\u001b[0m\u001b[0;34m\u001b[0m\u001b[0m\n\u001b[0m\u001b[1;32m    141\u001b[0m         \u001b[0;32mif\u001b[0m \u001b[0mverbose\u001b[0m\u001b[0;34m:\u001b[0m\u001b[0;34m\u001b[0m\u001b[0;34m\u001b[0m\u001b[0m\n\u001b[1;32m    142\u001b[0m             \u001b[0;32mif\u001b[0m \u001b[0mepoch\u001b[0m \u001b[0;34m%\u001b[0m \u001b[0;36m100\u001b[0m \u001b[0;34m==\u001b[0m \u001b[0;36m0\u001b[0m\u001b[0;34m:\u001b[0m\u001b[0;34m\u001b[0m\u001b[0;34m\u001b[0m\u001b[0m\n",
      "\u001b[0;32m~/anaconda3/envs/pytorch18/lib/python3.8/site-packages/torch/tensor.py\u001b[0m in \u001b[0;36m__format__\u001b[0;34m(self, format_spec)\u001b[0m\n\u001b[1;32m    542\u001b[0m             \u001b[0;32mreturn\u001b[0m \u001b[0mhandle_torch_function\u001b[0m\u001b[0;34m(\u001b[0m\u001b[0mTensor\u001b[0m\u001b[0;34m.\u001b[0m\u001b[0m__format__\u001b[0m\u001b[0;34m,\u001b[0m \u001b[0;34m(\u001b[0m\u001b[0mself\u001b[0m\u001b[0;34m,\u001b[0m\u001b[0;34m)\u001b[0m\u001b[0;34m,\u001b[0m \u001b[0mself\u001b[0m\u001b[0;34m,\u001b[0m \u001b[0mformat_spec\u001b[0m\u001b[0;34m)\u001b[0m\u001b[0;34m\u001b[0m\u001b[0;34m\u001b[0m\u001b[0m\n\u001b[1;32m    543\u001b[0m         \u001b[0;32mif\u001b[0m \u001b[0mself\u001b[0m\u001b[0;34m.\u001b[0m\u001b[0mdim\u001b[0m\u001b[0;34m(\u001b[0m\u001b[0;34m)\u001b[0m \u001b[0;34m==\u001b[0m \u001b[0;36m0\u001b[0m\u001b[0;34m:\u001b[0m\u001b[0;34m\u001b[0m\u001b[0;34m\u001b[0m\u001b[0m\n\u001b[0;32m--> 544\u001b[0;31m             \u001b[0;32mreturn\u001b[0m \u001b[0mself\u001b[0m\u001b[0;34m.\u001b[0m\u001b[0mitem\u001b[0m\u001b[0;34m(\u001b[0m\u001b[0;34m)\u001b[0m\u001b[0;34m.\u001b[0m\u001b[0m__format__\u001b[0m\u001b[0;34m(\u001b[0m\u001b[0mformat_spec\u001b[0m\u001b[0;34m)\u001b[0m\u001b[0;34m\u001b[0m\u001b[0;34m\u001b[0m\u001b[0m\n\u001b[0m\u001b[1;32m    545\u001b[0m         \u001b[0;32mreturn\u001b[0m \u001b[0mobject\u001b[0m\u001b[0;34m.\u001b[0m\u001b[0m__format__\u001b[0m\u001b[0;34m(\u001b[0m\u001b[0mself\u001b[0m\u001b[0;34m,\u001b[0m \u001b[0mformat_spec\u001b[0m\u001b[0;34m)\u001b[0m\u001b[0;34m\u001b[0m\u001b[0;34m\u001b[0m\u001b[0m\n\u001b[1;32m    546\u001b[0m \u001b[0;34m\u001b[0m\u001b[0m\n",
      "\u001b[0;31mKeyboardInterrupt\u001b[0m: "
     ]
    }
   ],
   "source": [
    "style_transfer.transfer_style_to_folder(generated_img_dir, real_img_dir,  out_dir, 1000, content_weight=10, style_weight=10, device = device, vgg_model=\"vgg16\")"
   ]
  },
  {
   "cell_type": "code",
   "execution_count": null,
   "id": "79987e42-c991-498d-8143-103fb900066f",
   "metadata": {},
   "outputs": [],
   "source": []
  }
 ],
 "metadata": {
  "kernelspec": {
   "display_name": "pytorch18",
   "language": "python",
   "name": "pytorch18"
  },
  "language_info": {
   "codemirror_mode": {
    "name": "ipython",
    "version": 3
   },
   "file_extension": ".py",
   "mimetype": "text/x-python",
   "name": "python",
   "nbconvert_exporter": "python",
   "pygments_lexer": "ipython3",
   "version": "3.8.8"
  }
 },
 "nbformat": 4,
 "nbformat_minor": 5
}
