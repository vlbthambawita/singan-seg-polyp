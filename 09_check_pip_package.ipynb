{
 "cells": [
  {
   "cell_type": "code",
   "execution_count": 1,
   "metadata": {},
   "outputs": [],
   "source": [
    "from singan_polyp_aug import generate_data, prepare_requirements"
   ]
  },
  {
   "cell_type": "code",
   "execution_count": 2,
   "metadata": {},
   "outputs": [
    {
     "name": "stdout",
     "output_type": "stream",
     "text": [
      "Help on module singan_polyp_aug.generate_data in singan_polyp_aug:\n",
      "\n",
      "NAME\n",
      "    singan_polyp_aug.generate_data\n",
      "\n",
      "FUNCTIONS\n",
      "    generate_from_multiple_checkpoints(out_dir: str, checkpoint_paths: list, *args, **kwargs) -> None\n",
      "        A function to generate synthetic polyp and correspondign mask from a given list of checkpoint paths.\n",
      "        \n",
      "        Parameters\n",
      "        ----------\n",
      "        out_dir: str\n",
      "            A path to save output data.\n",
      "        checkpoint_paths: list\n",
      "            A path list to downloaded checkpoints. To get paths, you have to run prepare_requirements.prepare_checkpoints() function.\n",
      "        num_samples: int\n",
      "            Number of random samples to generate from the given checkpoint. Default=1.\n",
      "        gen_start_scale: int\n",
      "            Predefined scales used in SinGAN training. You can use values between 0-9. Value 0 generates more random samples and value 9 generate sampels which are \n",
      "            very close to the training image.\n",
      "        mask_post_processing: bool\n",
      "            Whether the generated mask should be post processed or not. If True, generates mask is cleaned to have only 0 and 255. \n",
      "        \n",
      "        Returns\n",
      "        ------\n",
      "        None\n",
      "            This function does not have a return.\n",
      "    \n",
      "    generate_from_single_checkpoint(out_dir: str, checkpoint_path: str, num_samples: int = 1, gen_start_scale: int = 5, mask_post_processing: bool = True) -> None\n",
      "        A function to generate synthetic polyp and correspondign mask from a given checkpoint path.\n",
      "        \n",
      "        Parameters\n",
      "        ----------\n",
      "        out_dir: str\n",
      "            A path to save output data.\n",
      "        checkpoint_path: str\n",
      "            A path to a downloaded checkpoint. To get paths, you have to run prepare_requirements.prepare_checkpoints() function.\n",
      "        num_samples: int\n",
      "            Number of random samples to generate from the given checkpoint. Default=1.\n",
      "        gen_start_scale: int\n",
      "            Predefined scales used in SinGAN training. You can use values between 0-9. Value 0 generates more random samples and value 9 generate sampels which are \n",
      "            very close to the training image.\n",
      "        mask_post_processing: bool\n",
      "            Whether the generated mask should be post processed or not. If True, generates mask is cleaned to have only 0 and 255. \n",
      "        \n",
      "        Returns\n",
      "        ------\n",
      "        None\n",
      "            This function does not have a return.\n",
      "    \n",
      "    generate_simple(out_dir: str, chk_dir: str, *args, **kwargs) -> None\n",
      "        A function to generate synthetic polyp and correspondign mask from all downloaded checkpoint paths.\n",
      "        \n",
      "        Parameters\n",
      "        ----------\n",
      "        out_dir: str\n",
      "            A path to save output data.\n",
      "        chk_dir: str\n",
      "            The path to checkpoint directory. If the directory does not have downloaded checkpoints, this function will download them.\n",
      "        num_samples: int\n",
      "            Number of random samples to generate from the given checkpoint. Default=1.\n",
      "        gen_start_scale: int\n",
      "            Predefined scales used in SinGAN training. You can use values between 0-9. Value 0 generates more random samples and value 9 generate sampels which are \n",
      "            very close to the training image.\n",
      "        mask_post_processing: bool\n",
      "            Whether the generated mask should be post processed or not. If True, generates mask is cleaned to have only 0 and 255. \n",
      "        \n",
      "        Returns\n",
      "        ------\n",
      "        None\n",
      "            This function does not have a return.\n",
      "\n",
      "DATA\n",
      "    print_function = _Feature((2, 6, 0, 'alpha', 2), (3, 0, 0, 'alpha', 0)...\n",
      "\n",
      "FILE\n",
      "    /work/vajira/DL/singan-polyp-aug/singan_polyp_aug/generate_data.py\n",
      "\n",
      "\n"
     ]
    }
   ],
   "source": [
    "help(generate_data)"
   ]
  },
  {
   "cell_type": "code",
   "execution_count": 3,
   "metadata": {},
   "outputs": [
    {
     "name": "stdout",
     "output_type": "stream",
     "text": [
      "Help on module singan_polyp_aug.prepare_requirements in singan_polyp_aug:\n",
      "\n",
      "NAME\n",
      "    singan_polyp_aug.prepare_requirements\n",
      "\n",
      "FUNCTIONS\n",
      "    download_and_extract_single_file(url: str, path_to_extract: str, extracting: bool = True, clean: bool = False)\n",
      "    \n",
      "    extract_zip_file(zip_path: str, dst_dir: str)\n",
      "    \n",
      "    load_configs() -> dict\n",
      "        Loading the download paths in config file\n",
      "        \n",
      "        Parameters\n",
      "        -----------\n",
      "        No input parameters.\n",
      "        \n",
      "        Return\n",
      "        -------\n",
      "        dict\n",
      "            A dictionary containing all the download links.\n",
      "    \n",
      "    prepare_checkpoints(path_to_checkpoints: str, link_keys=['link1', 'link2', 'link3', 'link4'], real_data=True, *args, **kwargs) -> str\n",
      "        The main function preparing checkpoints for pre-trained SinGANs of Polyp images.\n",
      "        \n",
      "        Parameters\n",
      "        -----------\n",
      "        path_to_checkpoints: str\n",
      "            A directory path to download checkpoints. \n",
      "        link_keys: list\n",
      "            A list of link keys: link1, link2, link3, link4. One or multiple link keys can be put in this list. \n",
      "        real_data: bool\n",
      "            If True, the real images and masks used to train SinGANs will be downloaded to the checkpoint directory.  \n",
      "        \n",
      "        Return\n",
      "        ------\n",
      "        checkpoint_paths_list, real_image_mask_pair_list\n",
      "            A sorted list of paths to downloaded checkpoints.\n",
      "            A sorted (image_path, mask_path) tuple list.\n",
      "\n",
      "FILE\n",
      "    /work/vajira/DL/singan-polyp-aug/singan_polyp_aug/prepare_requirements.py\n",
      "\n",
      "\n"
     ]
    }
   ],
   "source": [
    "help(prepare_requirements)"
   ]
  },
  {
   "cell_type": "code",
   "execution_count": 4,
   "metadata": {},
   "outputs": [
    {
     "name": "stdout",
     "output_type": "stream",
     "text": [
      "Help on function prepare_checkpoints in module singan_polyp_aug.prepare_requirements:\n",
      "\n",
      "prepare_checkpoints(path_to_checkpoints:str, link_keys=['link1', 'link2'], *args, **kwargs) -> str\n",
      "\n"
     ]
    }
   ],
   "source": [
    "help(prepare_requirements.prepare_checkpoints)"
   ]
  },
  {
   "cell_type": "code",
   "execution_count": 5,
   "metadata": {},
   "outputs": [
    {
     "name": "stdout",
     "output_type": "stream",
     "text": [
      "/work/vajira/DL/singan-polyp-aug\n",
      "/work/vajira/DL/singan-polyp-aug/singan_polyp_aug\n",
      "/work/vajira/DL/singan-polyp-aug\n",
      "/work/vajira/DL/singan-polyp-aug/singan_polyp_aug\n",
      "https://www.dropbox.com/s/19xq87x4xanuy4t/TrainedModels_1_clean.zip?dl=1\n",
      "TrainedModels_1_clean.zip: 100%|██████████| 1.26G/1.26G [01:11<00:00, 18.8MB/s] \n",
      "Extracting TRUE...!\n",
      "=== Extracting files ===\n"
     ]
    },
    {
     "name": "stderr",
     "output_type": "stream",
     "text": [
      "100%|██████████| 2502/2502 [00:07<00:00, 321.80it/s]\n"
     ]
    },
    {
     "name": "stdout",
     "output_type": "stream",
     "text": [
      "https://www.dropbox.com/s/0i7io4tkpoccmq4/TrainedModels_2_clean.zip?dl=1\n",
      "TrainedModels_2_clean.zip: 100%|██████████| 1.24G/1.24G [00:56<00:00, 23.8MB/s] \n",
      "Extracting TRUE...!\n",
      "=== Extracting files ===\n"
     ]
    },
    {
     "name": "stderr",
     "output_type": "stream",
     "text": [
      "100%|██████████| 2502/2502 [00:07<00:00, 324.91it/s]\n"
     ]
    },
    {
     "name": "stdout",
     "output_type": "stream",
     "text": [
      "https://www.dropbox.com/s/hsdpkifid9prtst/TrainedModels_3_clean.zip?dl=1\n",
      "TrainedModels_3_clean.zip: 100%|██████████| 1.23G/1.23G [01:14<00:00, 17.7MB/s] \n",
      "Extracting TRUE...!\n",
      "=== Extracting files ===\n"
     ]
    },
    {
     "name": "stderr",
     "output_type": "stream",
     "text": [
      "100%|██████████| 2502/2502 [00:07<00:00, 330.80it/s]\n"
     ]
    },
    {
     "name": "stdout",
     "output_type": "stream",
     "text": [
      "https://www.dropbox.com/s/hzu470zcmy5ygf1/TrainedModels_4_clean.zip?dl=1\n",
      "TrainedModels_4_clean.zip: 100%|██████████| 1.24G/1.24G [01:08<00:00, 19.3MB/s] \n",
      "Extracting TRUE...!\n",
      "=== Extracting files ===\n"
     ]
    },
    {
     "name": "stderr",
     "output_type": "stream",
     "text": [
      "100%|██████████| 2502/2502 [00:07<00:00, 328.86it/s]\n"
     ]
    },
    {
     "name": "stdout",
     "output_type": "stream",
     "text": [
      "real_images.zip: 100%|██████████| 37.0M/37.0M [00:07<00:00, 5.32MB/s]\n",
      "Extracting TRUE...!\n",
      "=== Extracting files ===\n"
     ]
    },
    {
     "name": "stderr",
     "output_type": "stream",
     "text": [
      "100%|██████████| 1000/1000 [00:00<00:00, 4607.69it/s]\n"
     ]
    },
    {
     "name": "stdout",
     "output_type": "stream",
     "text": [
      "real_masks.zip: 100%|██████████| 6.89M/6.89M [00:00<00:00, 10.4MB/s]\n",
      "Extracting TRUE...!\n",
      "=== Extracting files ===\n"
     ]
    },
    {
     "name": "stderr",
     "output_type": "stream",
     "text": [
      "100%|██████████| 1000/1000 [00:00<00:00, 9851.87it/s]\n"
     ]
    }
   ],
   "source": [
    "out = prepare_requirements.prepare_checkpoints(\"/home/vajira/data/singan_polyp_checkpoints\")"
   ]
  },
  {
   "cell_type": "code",
   "execution_count": 6,
   "metadata": {},
   "outputs": [],
   "source": [
    "#generate_data.generate_simple(\"/home/vajira/DL/temp_data/singan_sample_out/new_test\", \"/home/vajira/DL/temp_data_2/\")"
   ]
  },
  {
   "cell_type": "code",
   "execution_count": null,
   "metadata": {},
   "outputs": [],
   "source": []
  },
  {
   "cell_type": "code",
   "execution_count": null,
   "metadata": {},
   "outputs": [],
   "source": []
  }
 ],
 "metadata": {
  "kernelspec": {
   "display_name": "pytorch18",
   "language": "python",
   "name": "pytorch18"
  },
  "language_info": {
   "codemirror_mode": {
    "name": "ipython",
    "version": 3
   },
   "file_extension": ".py",
   "mimetype": "text/x-python",
   "name": "python",
   "nbconvert_exporter": "python",
   "pygments_lexer": "ipython3",
   "version": "3.8.8"
  }
 },
 "nbformat": 4,
 "nbformat_minor": 4
}
